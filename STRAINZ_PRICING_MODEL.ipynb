{
 "cells": [
  {
   "cell_type": "code",
   "execution_count": null,
   "metadata": {
    "ExecuteTime": {
     "end_time": "2021-03-06T03:37:49.907281Z",
     "start_time": "2021-03-06T03:37:49.904024Z"
    }
   },
   "outputs": [],
   "source": [
    "## This is used for version control for the webdriver in Selenium.\n",
    "\n",
    "#pip install webdriver-manager"
   ]
  },
  {
   "cell_type": "code",
   "execution_count": 1,
   "metadata": {
    "ExecuteTime": {
     "end_time": "2021-03-07T07:24:33.932429Z",
     "start_time": "2021-03-07T07:24:33.005474Z"
    }
   },
   "outputs": [],
   "source": [
    "from selenium import webdriver\n",
    "from webdriver_manager.chrome import ChromeDriverManager\n",
    "from time import sleep\n",
    "import os\n",
    "import datetime\n",
    "import requests\n",
    "import json\n",
    "import pandas as pd\n",
    "import re"
   ]
  },
  {
   "cell_type": "code",
   "execution_count": 2,
   "metadata": {
    "ExecuteTime": {
     "end_time": "2021-03-07T07:24:33.940756Z",
     "start_time": "2021-03-07T07:24:33.934803Z"
    }
   },
   "outputs": [],
   "source": [
    "## Functions used to call the API and return it as a dictionary.\n",
    "\n",
    "def get_whole_json_dict():\n",
    "    page = requests.get('https://api.bsc.strainz.tech/strainz')\n",
    "    jsonObject = json.loads(page.text)\n",
    "    characteristics = pd.DataFrame(pd.DataFrame(jsonObject)['metadata'].to_list())    \n",
    "    return characteristics\n",
    "\n",
    "def time_in_days(td):\n",
    "    return (td.days) + (td.seconds/(3600*24))"
   ]
  },
  {
   "cell_type": "code",
   "execution_count": 3,
   "metadata": {
    "ExecuteTime": {
     "end_time": "2021-03-07T07:24:37.999331Z",
     "start_time": "2021-03-07T07:24:35.054873Z"
    }
   },
   "outputs": [
    {
     "name": "stderr",
     "output_type": "stream",
     "text": [
      "[WDM] - Current google-chrome version is 88.0.4324\n",
      "[WDM] - Get LATEST driver version for 88.0.4324\n",
      "[WDM] - Driver [/Users/null/.wdm/drivers/chromedriver/mac64/88.0.4324.96/chromedriver] found in cache\n"
     ]
    },
    {
     "name": "stdout",
     "output_type": "stream",
     "text": [
      " \n"
     ]
    }
   ],
   "source": [
    "driver = webdriver.Chrome(ChromeDriverManager().install())"
   ]
  },
  {
   "cell_type": "markdown",
   "metadata": {},
   "source": [
    "### Initial WebScraping For Plants"
   ]
  },
  {
   "cell_type": "code",
   "execution_count": 4,
   "metadata": {
    "ExecuteTime": {
     "end_time": "2021-03-07T07:25:32.189733Z",
     "start_time": "2021-03-07T07:24:40.003228Z"
    }
   },
   "outputs": [],
   "source": [
    "## Navigate to the marketplace for Strainz.\n",
    "driver.get(\"https://strainz.tech/marketplace/strainz\")\n",
    "sleep(10)\n",
    "\n",
    "## Locate the xpath that corresponds to the tile.\n",
    "market = driver.find_elements_by_xpath('/html/body/app-root/app-navigation/mat-sidenav-container/mat-sidenav-content/app-strainz-marketplace/section/div[2]')\n",
    "\n",
    "## Parse the market file with regular expression and store it into a DataFrame called units_for_sale.\n",
    "units_for_sale = pd.DataFrame(re.findall('(.*)\\nGeneration: (\\d+)\\nBreeding Cost: (\\d+)\\nBuy for (\\d+)\\nGrows (\\d+)',market[0].text), columns=['Name','Generation','BreedingCost','Price','Grow'])\n",
    "\n",
    "units_for_sale[['Generation','BreedingCost','Price','Grow']] = units_for_sale[['Generation','BreedingCost','Price','Grow']].astype(int)\n",
    "\n",
    "units_for_sale['PricePerBreedingCost'] = units_for_sale['Price']/units_for_sale['BreedingCost']\n",
    "units_for_sale['PricePerGrow'] = units_for_sale['Price']/units_for_sale['Grow']\n",
    "units_for_sale['DaysToCover'] = units_for_sale['Price']/units_for_sale['Grow']"
   ]
  },
  {
   "cell_type": "markdown",
   "metadata": {},
   "source": [
    "### Add API data to determine amount harvestable on purchase."
   ]
  },
  {
   "cell_type": "code",
   "execution_count": 5,
   "metadata": {
    "ExecuteTime": {
     "end_time": "2021-03-07T07:25:36.838418Z",
     "start_time": "2021-03-07T07:25:32.194684Z"
    }
   },
   "outputs": [],
   "source": [
    "## Capture the ids and store them as dna in the units_for_sale DataFrame.\n",
    "ids = []\n",
    "for each in driver.find_elements_by_class_name('mat-card-image'):\n",
    "    ids.append(each.get_attribute('src').split('/')[-1])\n",
    "\n",
    "units_for_sale['dna'] = ids\n",
    "\n",
    "## \n",
    "units_for_sale['HarvestableTime'] = 0\n",
    "\n",
    "harvest_dict = get_whole_json_dict()\n",
    "\n",
    "harvest_dict['lastHarvest'] = harvest_dict['lastHarvest'].astype(int)\n",
    "\n",
    "for api_values in units_for_sale['dna'].to_list():\n",
    "    temp_df = harvest_dict[harvest_dict['dna']==api_values]\n",
    "    temp_df = temp_df[temp_df['lastHarvest']==max(temp_df['lastHarvest'].to_list())].reset_index(drop=True)\n",
    "    units_for_sale.loc[units_for_sale['dna']==api_values,'HarvestableTime'] = time_in_days((datetime.datetime.today() - datetime.datetime.fromtimestamp(temp_df.loc[0,'lastHarvest'])))\n",
    "    \n",
    "units_for_sale['HarvestUnits'] = units_for_sale['HarvestableTime'] * units_for_sale['Grow']"
   ]
  },
  {
   "cell_type": "code",
   "execution_count": 6,
   "metadata": {
    "ExecuteTime": {
     "end_time": "2021-03-07T07:25:36.967836Z",
     "start_time": "2021-03-07T07:25:36.859964Z"
    }
   },
   "outputs": [
    {
     "data": {
      "text/html": [
       "<div>\n",
       "<style scoped>\n",
       "    .dataframe tbody tr th:only-of-type {\n",
       "        vertical-align: middle;\n",
       "    }\n",
       "\n",
       "    .dataframe tbody tr th {\n",
       "        vertical-align: top;\n",
       "    }\n",
       "\n",
       "    .dataframe thead th {\n",
       "        text-align: right;\n",
       "    }\n",
       "</style>\n",
       "<table border=\"1\" class=\"dataframe\">\n",
       "  <thead>\n",
       "    <tr style=\"text-align: right;\">\n",
       "      <th></th>\n",
       "      <th>Name</th>\n",
       "      <th>Generation</th>\n",
       "      <th>BreedingCost</th>\n",
       "      <th>Price</th>\n",
       "      <th>Grow</th>\n",
       "      <th>PricePerBreedingCost</th>\n",
       "      <th>PricePerGrow</th>\n",
       "      <th>DaysToCover</th>\n",
       "      <th>dna</th>\n",
       "      <th>HarvestableTime</th>\n",
       "      <th>HarvestUnits</th>\n",
       "    </tr>\n",
       "  </thead>\n",
       "  <tbody>\n",
       "    <tr>\n",
       "      <th>0</th>\n",
       "      <td>Cacao Diablo</td>\n",
       "      <td>3</td>\n",
       "      <td>1000</td>\n",
       "      <td>5500</td>\n",
       "      <td>220</td>\n",
       "      <td>5.50000</td>\n",
       "      <td>25.000000</td>\n",
       "      <td>25.000000</td>\n",
       "      <td>1111000032064064</td>\n",
       "      <td>0.171921</td>\n",
       "      <td>37.822685</td>\n",
       "    </tr>\n",
       "    <tr>\n",
       "      <th>1</th>\n",
       "      <td>Chemical Kush</td>\n",
       "      <td>0</td>\n",
       "      <td>2000</td>\n",
       "      <td>7400</td>\n",
       "      <td>227</td>\n",
       "      <td>3.70000</td>\n",
       "      <td>32.599119</td>\n",
       "      <td>32.599119</td>\n",
       "      <td>3213000198217187</td>\n",
       "      <td>0.713160</td>\n",
       "      <td>161.887257</td>\n",
       "    </tr>\n",
       "    <tr>\n",
       "      <th>2</th>\n",
       "      <td>Auto Amnesia</td>\n",
       "      <td>0</td>\n",
       "      <td>4000</td>\n",
       "      <td>12420</td>\n",
       "      <td>227</td>\n",
       "      <td>3.10500</td>\n",
       "      <td>54.713656</td>\n",
       "      <td>54.713656</td>\n",
       "      <td>4322000059080094</td>\n",
       "      <td>0.016701</td>\n",
       "      <td>3.791215</td>\n",
       "    </tr>\n",
       "    <tr>\n",
       "      <th>3</th>\n",
       "      <td>Auto Kush</td>\n",
       "      <td>1</td>\n",
       "      <td>1000</td>\n",
       "      <td>7420</td>\n",
       "      <td>197</td>\n",
       "      <td>7.42000</td>\n",
       "      <td>37.664975</td>\n",
       "      <td>37.664975</td>\n",
       "      <td>2115000172112058</td>\n",
       "      <td>0.016701</td>\n",
       "      <td>3.290174</td>\n",
       "    </tr>\n",
       "    <tr>\n",
       "      <th>4</th>\n",
       "      <td>White Kush</td>\n",
       "      <td>0</td>\n",
       "      <td>2000</td>\n",
       "      <td>8420</td>\n",
       "      <td>189</td>\n",
       "      <td>4.21000</td>\n",
       "      <td>44.550265</td>\n",
       "      <td>44.550265</td>\n",
       "      <td>1713000036099155</td>\n",
       "      <td>0.016701</td>\n",
       "      <td>3.156563</td>\n",
       "    </tr>\n",
       "    <tr>\n",
       "      <th>...</th>\n",
       "      <td>...</td>\n",
       "      <td>...</td>\n",
       "      <td>...</td>\n",
       "      <td>...</td>\n",
       "      <td>...</td>\n",
       "      <td>...</td>\n",
       "      <td>...</td>\n",
       "      <td>...</td>\n",
       "      <td>...</td>\n",
       "      <td>...</td>\n",
       "      <td>...</td>\n",
       "    </tr>\n",
       "    <tr>\n",
       "      <th>56</th>\n",
       "      <td>Gelato Alarm</td>\n",
       "      <td>3</td>\n",
       "      <td>2000</td>\n",
       "      <td>8000</td>\n",
       "      <td>289</td>\n",
       "      <td>4.00000</td>\n",
       "      <td>27.681661</td>\n",
       "      <td>27.681661</td>\n",
       "      <td>1762000000000000</td>\n",
       "      <td>0.915428</td>\n",
       "      <td>264.558762</td>\n",
       "    </tr>\n",
       "    <tr>\n",
       "      <th>57</th>\n",
       "      <td>Gelato Trinity</td>\n",
       "      <td>2</td>\n",
       "      <td>4000</td>\n",
       "      <td>8000</td>\n",
       "      <td>305</td>\n",
       "      <td>2.00000</td>\n",
       "      <td>26.229508</td>\n",
       "      <td>26.229508</td>\n",
       "      <td>7111000064000128</td>\n",
       "      <td>0.915428</td>\n",
       "      <td>279.205613</td>\n",
       "    </tr>\n",
       "    <tr>\n",
       "      <th>58</th>\n",
       "      <td>Hawaiian Kush</td>\n",
       "      <td>2</td>\n",
       "      <td>1000</td>\n",
       "      <td>25000</td>\n",
       "      <td>320</td>\n",
       "      <td>25.00000</td>\n",
       "      <td>78.125000</td>\n",
       "      <td>78.125000</td>\n",
       "      <td>2111000000000000</td>\n",
       "      <td>1.317025</td>\n",
       "      <td>421.448148</td>\n",
       "    </tr>\n",
       "    <tr>\n",
       "      <th>59</th>\n",
       "      <td>Exodus Croppa</td>\n",
       "      <td>1</td>\n",
       "      <td>4000</td>\n",
       "      <td>3999</td>\n",
       "      <td>166</td>\n",
       "      <td>0.99975</td>\n",
       "      <td>24.090361</td>\n",
       "      <td>24.090361</td>\n",
       "      <td>5354000032117130</td>\n",
       "      <td>0.122442</td>\n",
       "      <td>20.325394</td>\n",
       "    </tr>\n",
       "    <tr>\n",
       "      <th>60</th>\n",
       "      <td>Mamma Hutt</td>\n",
       "      <td>0</td>\n",
       "      <td>2000</td>\n",
       "      <td>50000</td>\n",
       "      <td>189</td>\n",
       "      <td>25.00000</td>\n",
       "      <td>264.550265</td>\n",
       "      <td>264.550265</td>\n",
       "      <td>5634000208084056</td>\n",
       "      <td>1.922558</td>\n",
       "      <td>363.363437</td>\n",
       "    </tr>\n",
       "  </tbody>\n",
       "</table>\n",
       "<p>61 rows × 11 columns</p>\n",
       "</div>"
      ],
      "text/plain": [
       "              Name  Generation  BreedingCost  Price  Grow  \\\n",
       "0     Cacao Diablo           3          1000   5500   220   \n",
       "1    Chemical Kush           0          2000   7400   227   \n",
       "2     Auto Amnesia           0          4000  12420   227   \n",
       "3        Auto Kush           1          1000   7420   197   \n",
       "4       White Kush           0          2000   8420   189   \n",
       "..             ...         ...           ...    ...   ...   \n",
       "56    Gelato Alarm           3          2000   8000   289   \n",
       "57  Gelato Trinity           2          4000   8000   305   \n",
       "58   Hawaiian Kush           2          1000  25000   320   \n",
       "59   Exodus Croppa           1          4000   3999   166   \n",
       "60      Mamma Hutt           0          2000  50000   189   \n",
       "\n",
       "    PricePerBreedingCost  PricePerGrow  DaysToCover               dna  \\\n",
       "0                5.50000     25.000000    25.000000  1111000032064064   \n",
       "1                3.70000     32.599119    32.599119  3213000198217187   \n",
       "2                3.10500     54.713656    54.713656  4322000059080094   \n",
       "3                7.42000     37.664975    37.664975  2115000172112058   \n",
       "4                4.21000     44.550265    44.550265  1713000036099155   \n",
       "..                   ...           ...          ...               ...   \n",
       "56               4.00000     27.681661    27.681661  1762000000000000   \n",
       "57               2.00000     26.229508    26.229508  7111000064000128   \n",
       "58              25.00000     78.125000    78.125000  2111000000000000   \n",
       "59               0.99975     24.090361    24.090361  5354000032117130   \n",
       "60              25.00000    264.550265   264.550265  5634000208084056   \n",
       "\n",
       "    HarvestableTime  HarvestUnits  \n",
       "0          0.171921     37.822685  \n",
       "1          0.713160    161.887257  \n",
       "2          0.016701      3.791215  \n",
       "3          0.016701      3.290174  \n",
       "4          0.016701      3.156563  \n",
       "..              ...           ...  \n",
       "56         0.915428    264.558762  \n",
       "57         0.915428    279.205613  \n",
       "58         1.317025    421.448148  \n",
       "59         0.122442     20.325394  \n",
       "60         1.922558    363.363437  \n",
       "\n",
       "[61 rows x 11 columns]"
      ]
     },
     "execution_count": 6,
     "metadata": {},
     "output_type": "execute_result"
    }
   ],
   "source": [
    "units_for_sale"
   ]
  },
  {
   "cell_type": "markdown",
   "metadata": {},
   "source": [
    "### Fit a Linear Model To Marketplace"
   ]
  },
  {
   "cell_type": "code",
   "execution_count": 8,
   "metadata": {
    "ExecuteTime": {
     "end_time": "2021-03-07T07:30:09.632568Z",
     "start_time": "2021-03-07T07:30:09.624075Z"
    }
   },
   "outputs": [],
   "source": [
    "import numpy as np\n",
    "from sklearn.linear_model import LinearRegression"
   ]
  },
  {
   "cell_type": "code",
   "execution_count": 9,
   "metadata": {
    "ExecuteTime": {
     "end_time": "2021-03-07T07:30:11.675591Z",
     "start_time": "2021-03-07T07:30:11.634107Z"
    }
   },
   "outputs": [],
   "source": [
    "## Perform one-hot encoding on the generation.\n",
    "\n",
    "ohe_df = pd.get_dummies(units_for_sale['Generation'])\n",
    "final_df = pd.concat([units_for_sale, ohe_df], axis=1)\n",
    "X = final_df.drop(['Name','Generation','dna','PricePerBreedingCost','PricePerGrow','DaysToCover','HarvestableTime','HarvestUnits'],axis=1).drop(['Price'],axis=1).to_numpy()\n",
    "Y = final_df['Price'].to_numpy()\n",
    "reg = LinearRegression().fit(X,Y)"
   ]
  },
  {
   "cell_type": "code",
   "execution_count": null,
   "metadata": {},
   "outputs": [],
   "source": []
  }
 ],
 "metadata": {
  "kernelspec": {
   "display_name": "Python 3",
   "language": "python",
   "name": "python3"
  },
  "language_info": {
   "codemirror_mode": {
    "name": "ipython",
    "version": 3
   },
   "file_extension": ".py",
   "mimetype": "text/x-python",
   "name": "python",
   "nbconvert_exporter": "python",
   "pygments_lexer": "ipython3",
   "version": "3.7.6"
  }
 },
 "nbformat": 4,
 "nbformat_minor": 4
}
